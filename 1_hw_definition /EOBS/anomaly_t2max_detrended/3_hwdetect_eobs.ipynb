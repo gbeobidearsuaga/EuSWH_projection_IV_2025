{
 "cells": [
  {
   "cell_type": "code",
   "execution_count": 1,
   "id": "da2160f1-10ec-41d5-82c3-df0c4ab4449a",
   "metadata": {},
   "outputs": [],
   "source": [
    "f_path = '/home/u/u241308/script_python/gb_functions'\n",
    "import sys\n",
    "sys.path.insert(1, f_path)\n",
    "import gb_hwdetect_optimized as gb_hw\n",
    "\n",
    "import numpy as np\n",
    "import matplotlib.pyplot as plt\n",
    "from matplotlib.pyplot import figure\n",
    "import xarray as xr\n",
    "import copy\n",
    "import cartopy.crs as ccrs\n",
    "import cartopy.feature as cfeature\n",
    "import matplotlib.ticker as mticker\n",
    "from math import sin, cos, sqrt, atan2, radians"
   ]
  },
  {
   "cell_type": "code",
   "execution_count": 2,
   "id": "02616b6c-b815-4fc2-aa7d-ab22f3b33ecf",
   "metadata": {},
   "outputs": [],
   "source": [
    "#reference time\n",
    "ref_min = 1985\n",
    "ref_max = 2014\n",
    "\n",
    "# Consecutive days for heatwave detection\n",
    "c_days = 6\n",
    "\n",
    "# Threshold percentile\n",
    "percentile = 90 #95\n",
    "\n",
    "#Definition type: daily moving threshold (mov_day) or JA moving threshold (mov_JA)\n",
    "def_type = 'fix_day' #'mov_JA'"
   ]
  },
  {
   "cell_type": "code",
   "execution_count": 3,
   "id": "a7e3b235-15c9-4fc7-b487-a528093d6f8e",
   "metadata": {},
   "outputs": [],
   "source": [
    "def run_hw_detect():    \n",
    "    #import data\n",
    "    path = '/work/uo1075/u241308/reanalysis/eobs/eobs_hw_projections/'\n",
    "    file = 'tasmax_1950_2022_GEgrid2_anomaly_detrended_multi_model.nc'\n",
    "\n",
    "    with xr.open_dataset(path+file) as data1:\n",
    "        #data1 = data1.rename({'__xarray_dataarray_variable__':'tx'})\n",
    "        data1 = data1.tx\n",
    "        \n",
    "        #Get rid off 29th of februarys\n",
    "        data1 = data1.sel(time=~((data1.time.dt.month == 2) & (data1.time.dt.day == 29)))\n",
    "        \n",
    "    #load threshold\n",
    "    path = '/work/uo1075/u241308/data_python/HW_extension/eobs/'\n",
    "    file = 'threshold_%s'%percentile+ '_fix_day_eobs_ref_%i'%ref_min + '-%i_anomaly_detrended_multi_model.nc'%ref_max  \n",
    "    \n",
    "    with xr.open_dataset(path+file) as threshold:\n",
    "        threshold = threshold.tx\n",
    "        \n",
    "        #select one year (all years are the same in fix_day)\n",
    "        threshold = threshold[(threshold.time.dt.year==threshold.time.dt.year.min())].values\n",
    "        \n",
    "    #expand threhsold to dimensions of data1\n",
    "    year_number = np.unique(data1.time.dt.year).shape[0]\n",
    "    out_data = copy.deepcopy(data1)\n",
    "    out_data[:,:,:] = np.tile(threshold,(year_number,1,1))\n",
    "        \n",
    "    #detect hws\n",
    "    heat_wave_day_withtime1 = gb_hw.gb_hwdetect(data1,out_data,c_days)\n",
    "    out_data[:,:,:] = heat_wave_day_withtime1\n",
    "            \n",
    "    return out_data"
   ]
  },
  {
   "cell_type": "code",
   "execution_count": 4,
   "id": "613276c2-8824-45ff-87b6-6912cb6492f3",
   "metadata": {},
   "outputs": [],
   "source": [
    "hw_detect = run_hw_detect()\n",
    "\n",
    "#save data\n",
    "path = '/work/uo1075/u241308/data_python/HW_extension/eobs/'\n",
    "file = 'hw_detect_%id'%c_days +'_%s'%percentile+ '_' + def_type + '_eobs_ref_%i'%ref_min + '-%i_anomaly_detrended_multi_model.nc'%ref_max    \n",
    "hw_detect.to_netcdf(path+file)"
   ]
  },
  {
   "cell_type": "code",
   "execution_count": 5,
   "id": "23da0878-d159-4ff4-a9a1-9fdbad4a2b27",
   "metadata": {},
   "outputs": [
    {
     "name": "stdout",
     "output_type": "stream",
     "text": [
      "code done\n"
     ]
    }
   ],
   "source": [
    "print('code done')"
   ]
  },
  {
   "cell_type": "code",
   "execution_count": null,
   "id": "b664e969-7d65-4877-ab06-ff0799b6a9bc",
   "metadata": {},
   "outputs": [],
   "source": []
  }
 ],
 "metadata": {
  "kernelspec": {
   "display_name": "my_env2",
   "language": "python",
   "name": "my_env2"
  },
  "language_info": {
   "codemirror_mode": {
    "name": "ipython",
    "version": 3
   },
   "file_extension": ".py",
   "mimetype": "text/x-python",
   "name": "python",
   "nbconvert_exporter": "python",
   "pygments_lexer": "ipython3",
   "version": "3.6.11"
  }
 },
 "nbformat": 4,
 "nbformat_minor": 5
}
