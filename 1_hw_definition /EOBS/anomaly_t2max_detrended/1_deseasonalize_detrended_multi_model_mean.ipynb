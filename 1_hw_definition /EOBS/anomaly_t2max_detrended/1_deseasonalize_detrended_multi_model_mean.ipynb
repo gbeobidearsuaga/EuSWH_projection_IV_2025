{
 "cells": [
  {
   "cell_type": "code",
   "execution_count": 1,
   "id": "becb655c-62d3-45fd-b513-085050ca5917",
   "metadata": {
    "tags": []
   },
   "outputs": [],
   "source": [
    "import numpy as np\n",
    "import xarray as xr\n",
    "import copy "
   ]
  },
  {
   "cell_type": "code",
   "execution_count": null,
   "id": "608f50dd-e78e-49e1-b6a8-10cac5c5edc2",
   "metadata": {},
   "outputs": [],
   "source": [
    "#Use CDO for regridding data to MPI-GE grid\n",
    "#cdo -remapbil,MPI_GE_grid.txt in_file_original.nc out_file_GEgrid.nc"
   ]
  },
  {
   "cell_type": "code",
   "execution_count": 2,
   "id": "822470f6-7c3f-42a4-a042-c4cafe82a547",
   "metadata": {},
   "outputs": [],
   "source": [
    "def window_stack(a, stepsize, r_window):\n",
    "    return np.hstack( a[i:1+i-r_window or None:stepsize] for i in range(0,r_window) )\n"
   ]
  },
  {
   "cell_type": "code",
   "execution_count": 3,
   "id": "a0f421b7-debe-4a6e-8bb3-c02195a3ea7f",
   "metadata": {
    "tags": []
   },
   "outputs": [],
   "source": [
    "def r_anomaly(in_data_ref1,in_data_ref2,in_data_ref3,in_data_ref4,in_data_target,r_window):\n",
    "    r_window_data1 = window_stack(in_data_ref1,1,r_window) #get data for running windows, model 1\n",
    "    r_window_data2 = window_stack(in_data_ref2,1,r_window) #get data for running windows, model 2\n",
    "    r_window_data3 = window_stack(in_data_ref3,1,r_window) #get data for running windows, model 3\n",
    "    r_window_data4 = window_stack(in_data_ref4,1,r_window) #get data for running windows, model 4\n",
    "    r_mean = np.concatenate((r_window_data1,r_window_data2,r_window_data3,r_window_data4),axis=1).mean(axis=1) # concatenate models and average over ensemble dim for the each window\n",
    "    \n",
    "    #subtract mean to original data\n",
    "    start = int((r_window-1)/2)\n",
    "    in_data_target[:start]= in_data_target[:start]-r_mean[0] #first missing values\n",
    "    in_data_target[-start:] = in_data_target[-start:]-r_mean[-1] #last missing values\n",
    "    in_data_target[start:-start] = in_data_target[start:-start]-r_mean #middle values\n",
    "    return(in_data_target)"
   ]
  },
  {
   "cell_type": "code",
   "execution_count": 4,
   "id": "df581fab-272a-49cb-9d00-3a2c14424f3c",
   "metadata": {
    "tags": []
   },
   "outputs": [],
   "source": [
    "stepsize = 1\n",
    "window = 15\n",
    "start = int((window-1)/2)"
   ]
  },
  {
   "cell_type": "markdown",
   "id": "f83cefe3-159f-42c4-8ddf-a5eb1754f741",
   "metadata": {},
   "source": [
    "# Load EOBS"
   ]
  },
  {
   "cell_type": "code",
   "execution_count": 42,
   "id": "c465124e-b2e8-4a43-a3ac-86081dc1d71d",
   "metadata": {},
   "outputs": [],
   "source": [
    "# Europe domain\n",
    "lon_min = -10\n",
    "lon_max = 30\n",
    "lat_min = 35 #36.5 if we want to compute trend: northern african part is mixed with nan and not nans..\n",
    "lat_max = 70"
   ]
  },
  {
   "cell_type": "code",
   "execution_count": 43,
   "id": "a4c4be16-aa6b-42e1-b121-e6b49b7e2d35",
   "metadata": {},
   "outputs": [],
   "source": [
    "path = '/work/uo1075/u241308/reanalysis/eobs/eobs_hw_projections/'\n",
    "file = 'tasmax_1950_2022_GEgrid2.nc'\n",
    "\n",
    "data_eobs = xr.open_dataset(path+file)\n",
    "data_eobs = data_eobs.tx\n",
    "\n",
    "#select area\n",
    "data_eobs = data_eobs[:,(data_eobs.lat>=lat_min)&(data_eobs.lat<=lat_max),(data_eobs.lon>=lon_min)&(data_eobs.lon<=lon_max)]\n",
    "\n",
    "#Get rid off 29th of februarys\n",
    "data_eobs = data_eobs.sel(time=~((data_eobs.time.dt.month == 2) & (data_eobs.time.dt.day == 29)))"
   ]
  },
  {
   "cell_type": "code",
   "execution_count": 44,
   "id": "52ff0998-0fa1-4f8f-b906-ddb599a7e5ab",
   "metadata": {},
   "outputs": [],
   "source": [
    "min_year_eobs = np.min(data_eobs.time.dt.year)\n",
    "max_year_eobs = np.max(data_eobs.time.dt.year)"
   ]
  },
  {
   "cell_type": "markdown",
   "id": "00a35ff9-d895-4555-bbb6-fbaac3b4d78b",
   "metadata": {},
   "source": [
    "# MPI-GE"
   ]
  },
  {
   "cell_type": "code",
   "execution_count": 45,
   "id": "df26815c-6b45-4e41-b30a-8093ffda574b",
   "metadata": {
    "tags": []
   },
   "outputs": [],
   "source": [
    "# Historical\n",
    "run = ['HIST']\n",
    "for n_run in run:\n",
    "    # ------------------ Load first set -----------------------\n",
    "    path = '/work/uo1075/u241308/grand_ensemble_cmip6/t2max/'\n",
    "    file = 'nGE_Tmax_'+n_run+'_dm_land_europe.nc'\n",
    "    \n",
    "    with xr.open_dataset(path+file) as data1:\n",
    "        data1 = data1.tasmax\n",
    "\n",
    "        #Get rid off 29th of februarys\n",
    "        data1 = data1.sel(time=~((data1.time.dt.month == 2) & (data1.time.dt.day == 29)))\n",
    "        \n",
    "    # ------------------ Load second set -----------------------\n",
    "    path = '/work/uo1075/u241308/grand_ensemble_cmip6/t2max/ens31_50/'\n",
    "    file = 'nGE_Tmax_'+n_run+'_dm_ens_31-50_land_europe.nc'\n",
    "    \n",
    "    with xr.open_dataset(path+file) as data2:\n",
    "        data2 = data2.tasmax\n",
    "\n",
    "        #Get rid off 29th of februarys\n",
    "        data2 = data2.sel(time=~((data2.time.dt.month == 2) & (data2.time.dt.day == 29)))\n",
    "        \n",
    "    #concatenate over ensemble dimension\n",
    "    data = np.concatenate((data1.values,data2.values),axis=1)\n",
    "\n",
    "    #select EOBS years\n",
    "    data_hist = data[data1.time.dt.year>=min_year_eobs]"
   ]
  },
  {
   "cell_type": "code",
   "execution_count": 46,
   "id": "eae09dbe-b574-4fbe-ad7d-73cbc4f53bed",
   "metadata": {
    "tags": []
   },
   "outputs": [],
   "source": [
    "# Historical\n",
    "run = ['ssp245']\n",
    "for n_run in run:\n",
    "    # ------------------ Load first set -----------------------\n",
    "    path = '/work/uo1075/u241308/grand_ensemble_cmip6/t2max/'\n",
    "    file = 'nGE_Tmax_'+n_run+'_dm_land_europe.nc'\n",
    "    \n",
    "    with xr.open_dataset(path+file) as data1:\n",
    "        data1 = data1.tasmax\n",
    "\n",
    "        #Get rid off 29th of februarys\n",
    "        data1 = data1.sel(time=~((data1.time.dt.month == 2) & (data1.time.dt.day == 29)))\n",
    "        \n",
    "    # ------------------ Load second set -----------------------\n",
    "    path = '/work/uo1075/u241308/grand_ensemble_cmip6/t2max/ens31_50/'\n",
    "    file = 'nGE_Tmax_'+n_run+'_dm_ens_31-50_land_europe.nc'\n",
    "    \n",
    "    with xr.open_dataset(path+file) as data2:\n",
    "        data2 = data2.tasmax\n",
    "\n",
    "        #Get rid off 29th of februarys\n",
    "        data2 = data2.sel(time=~((data2.time.dt.month == 2) & (data2.time.dt.day == 29)))\n",
    "        \n",
    "        \n",
    "    #concatenate over ensemble dimension\n",
    "    data = np.concatenate((data1.values,data2.values),axis=1)\n",
    "\n",
    "    #select EOBS years\n",
    "    data_ssp = data[data1.time.dt.year<=max_year_eobs]"
   ]
  },
  {
   "cell_type": "code",
   "execution_count": 47,
   "id": "8147f112-e029-4018-a44e-8afda1ee2093",
   "metadata": {},
   "outputs": [],
   "source": [
    "#concatenate \n",
    "data_model = np.concatenate((data_hist,data_ssp),axis=0)\n",
    "\n",
    "#conver model data to celsius, as eobs in celsius\n",
    "data_model = data_model -273.15"
   ]
  },
  {
   "cell_type": "code",
   "execution_count": 48,
   "id": "a2f50ec7-b4fa-4985-b995-8736ccb427ed",
   "metadata": {},
   "outputs": [
    {
     "name": "stdout",
     "output_type": "stream",
     "text": [
      "(26645, 19, 22)\n",
      "(26645, 50, 19, 22)\n"
     ]
    }
   ],
   "source": [
    "print(data_eobs.shape)\n",
    "print(data_model.shape)"
   ]
  },
  {
   "cell_type": "code",
   "execution_count": 49,
   "id": "794f45dd-4884-4a67-a9d8-0552dd36156e",
   "metadata": {},
   "outputs": [],
   "source": [
    "#flatten lon/lat\n",
    "data_MPI_flat = data_model.reshape(data_model.shape[0],data_model.shape[1],-1) \n",
    "data_eobs_flat = data_eobs.values.reshape(data_eobs.shape[0],-1) "
   ]
  },
  {
   "cell_type": "markdown",
   "id": "3dcfd72e-f2b4-4168-9085-46a8f45f8076",
   "metadata": {},
   "source": [
    "# Rest of SMILES"
   ]
  },
  {
   "cell_type": "code",
   "execution_count": 50,
   "id": "b40d56ec-61f5-4ab6-8896-eb3eb0cbc979",
   "metadata": {},
   "outputs": [],
   "source": [
    "#Mask\n",
    "path = '/work/uo1075/u241308/grand_ensemble_cmip6/t2max/'\n",
    "file = 'nGE_Tmax_ssp245_dm_land_europe.nc'\n",
    "mask = xr.open_dataset(path+file)\n",
    "mask = mask.tasmax[0,0,:,:]"
   ]
  },
  {
   "cell_type": "code",
   "execution_count": 51,
   "id": "de7bb229-e52e-44af-ac96-0eb9cf77c38b",
   "metadata": {},
   "outputs": [],
   "source": [
    "model_name = 'ACCESS-ESM1-5'\n",
    "ens_number = '40'\n",
    "\n",
    "# Historical\n",
    "run = ['historical']\n",
    "for index,n_run in enumerate(run):\n",
    "    # ------------------ Load first set -----------------------\n",
    "    path = '/work/uo1075/u241308/SMILE/'+model_name+'/tasmax/'\n",
    "    file = model_name+'_Tmax_'+n_run+'_dm_ens_1-'+ens_number+'_GEgrid_europe.nc'\n",
    "    \n",
    "    with xr.open_dataset(path+file) as data1:\n",
    "        data1 = data1.tasmax\n",
    "\n",
    "        #Get rid off 29th of februarys\n",
    "        data1 = data1.sel(time=~((data1.time.dt.month == 2) & (data1.time.dt.day == 29)))\n",
    "        \n",
    "    #select EOBS years\n",
    "    data_hist = data1[data1.time.dt.year>=min_year_eobs]\n",
    "\n",
    "    #latitudes are originaly inverted\n",
    "    data_hist = data_hist.reindex(lat = data_hist.lat[::-1]) \n",
    "    #mask ocean data\n",
    "    data_hist = np.where(mask==0,0,data_hist) \n",
    "\n",
    "# SSP245\n",
    "run = ['ssp245']\n",
    "for n_run in run:\n",
    "    # ------------------ Load first set -----------------------\n",
    "    path = '/work/uo1075/u241308/SMILE/'+model_name+'/tasmax/'\n",
    "    file = model_name+'_Tmax_'+n_run+'_dm_ens_1-'+ens_number+'_GEgrid_europe.nc'\n",
    "    with xr.open_dataset(path+file) as data1:\n",
    "        data1 = data1.tasmax\n",
    "\n",
    "        #Get rid off 29th of februarys\n",
    "        data1 = data1.sel(time=~((data1.time.dt.month == 2) & (data1.time.dt.day == 29)))\n",
    "        \n",
    "    #select EOBS years\n",
    "    data_ssp = data1[data1.time.dt.year<=max_year_eobs]\n",
    "\n",
    "    #latitudes are originaly inverted\n",
    "    data_ssp = data_ssp.reindex(lat = data_ssp.lat[::-1]) \n",
    "    #mask ocean data\n",
    "    data_ssp = np.where(mask==0,0,data_ssp)\n",
    "\n",
    "#concatenate \n",
    "data_model = np.concatenate((data_hist,data_ssp),axis=0)\n",
    "\n",
    "#conver model data to celsius, as eobs in celsius\n",
    "data_model = data_model -273.15\n",
    "\n",
    "#flatten lon/lat\n",
    "data_access_flat = data_model.reshape(data_model.shape[0],data_model.shape[1],-1)"
   ]
  },
  {
   "cell_type": "code",
   "execution_count": 52,
   "id": "977fa41d-ef83-4524-831d-1786038d4112",
   "metadata": {},
   "outputs": [
    {
     "name": "stdout",
     "output_type": "stream",
     "text": [
      "(23725, 40, 19, 22)\n",
      "(2920, 40, 19, 22)\n",
      "(26645, 40, 19, 22)\n"
     ]
    }
   ],
   "source": [
    "print(data_hist.shape)\n",
    "print(data_ssp.shape)\n",
    "print(data_model.shape)"
   ]
  },
  {
   "cell_type": "code",
   "execution_count": 53,
   "id": "de5c8f7d-90c6-4f85-bd8c-b59bbed05e53",
   "metadata": {},
   "outputs": [],
   "source": [
    "model_name = 'CanESM5'\n",
    "ens_number = '25'\n",
    "\n",
    "# Historical\n",
    "run = ['historical']\n",
    "for index,n_run in enumerate(run):\n",
    "    # ------------------ Load first set -----------------------\n",
    "    path = '/work/uo1075/u241308/SMILE/'+model_name+'/tasmax/'\n",
    "    file = model_name+'_Tmax_'+n_run+'_dm_ens_1-'+ens_number+'_GEgrid_europe.nc'\n",
    "    \n",
    "    with xr.open_dataset(path+file) as data1:\n",
    "        data1 = data1.tasmax\n",
    "\n",
    "        #Get rid off 29th of februarys\n",
    "        data1 = data1.sel(time=~((data1.time.dt.month == 2) & (data1.time.dt.day == 29)))\n",
    "        \n",
    "    #select EOBS years\n",
    "    data_hist = data1[data1.time.dt.year>=min_year_eobs]\n",
    "\n",
    "    #latitudes are originaly inverted\n",
    "    data_hist = data_hist.reindex(lat = data_hist.lat[::-1]) \n",
    "    #mask ocean data\n",
    "    data_hist = np.where(mask==0,0,data_hist) \n",
    "\n",
    "# SSP245\n",
    "run = ['ssp245']\n",
    "for n_run in run:\n",
    "    # ------------------ Load first set -----------------------\n",
    "    path = '/work/uo1075/u241308/SMILE/'+model_name+'/tasmax/'\n",
    "    file = model_name+'_Tmax_'+n_run+'_dm_ens_1-'+ens_number+'_GEgrid_europe.nc'\n",
    "    with xr.open_dataset(path+file) as data1:\n",
    "        data1 = data1.tasmax\n",
    "\n",
    "        #Get rid off 29th of februarys\n",
    "        data1 = data1.sel(time=~((data1.time.dt.month == 2) & (data1.time.dt.day == 29)))\n",
    "        \n",
    "    #select EOBS years\n",
    "    data_ssp = data1[data1.time.dt.year<=max_year_eobs]\n",
    "\n",
    "    #latitudes are originaly inverted\n",
    "    data_ssp = data_ssp.reindex(lat = data_ssp.lat[::-1]) \n",
    "    #mask ocean data\n",
    "    data_ssp = np.where(mask==0,0,data_ssp)\n",
    "\n",
    "#concatenate \n",
    "data_model = np.concatenate((data_hist,data_ssp),axis=0)\n",
    "\n",
    "#conver model data to celsius, as eobs in celsius\n",
    "data_model = data_model -273.15\n",
    "\n",
    "#flatten lon/lat\n",
    "data_can_flat = data_model.reshape(data_model.shape[0],data_model.shape[1],-1)"
   ]
  },
  {
   "cell_type": "code",
   "execution_count": 54,
   "id": "a11a8c57-4eaa-424e-a162-be5258b2a8b2",
   "metadata": {},
   "outputs": [
    {
     "name": "stdout",
     "output_type": "stream",
     "text": [
      "(23725, 25, 19, 22)\n",
      "(2920, 25, 19, 22)\n",
      "(26645, 25, 19, 22)\n"
     ]
    }
   ],
   "source": [
    "print(data_hist.shape)\n",
    "print(data_ssp.shape)\n",
    "print(data_model.shape)"
   ]
  },
  {
   "cell_type": "code",
   "execution_count": 55,
   "id": "ef7b3905-6906-4446-bb4f-ecf2bb608b7c",
   "metadata": {},
   "outputs": [],
   "source": [
    "model_name = 'MIROC6'\n",
    "ens_number = '50'\n",
    "\n",
    "# Historical\n",
    "run = ['historical']\n",
    "for index,n_run in enumerate(run):\n",
    "    # ------------------ Load first set -----------------------\n",
    "    path = '/work/uo1075/u241308/SMILE/'+model_name+'/tasmax/'\n",
    "    file = model_name+'_Tmax_'+n_run+'_dm_ens_1-'+ens_number+'_GEgrid_europe.nc'\n",
    "    \n",
    "    with xr.open_dataset(path+file) as data1:\n",
    "        data1 = data1.tasmax\n",
    "\n",
    "        #Get rid off 29th of februarys\n",
    "        data1 = data1.sel(time=~((data1.time.dt.month == 2) & (data1.time.dt.day == 29)))\n",
    "        \n",
    "    #select EOBS years\n",
    "    data_hist = data1[data1.time.dt.year>=min_year_eobs]\n",
    "\n",
    "    #mask ocean data\n",
    "    data_hist = np.where(mask==0,0,data_hist) \n",
    "\n",
    "# SSP245\n",
    "run = ['ssp245']\n",
    "for n_run in run:\n",
    "    # ------------------ Load first set -----------------------\n",
    "    path = '/work/uo1075/u241308/SMILE/'+model_name+'/tasmax/'\n",
    "    file = model_name+'_Tmax_'+n_run+'_dm_ens_1-'+ens_number+'_GEgrid_europe.nc'\n",
    "    with xr.open_dataset(path+file) as data1:\n",
    "        data1 = data1.tasmax\n",
    "\n",
    "        #Get rid off 29th of februarys\n",
    "        data1 = data1.sel(time=~((data1.time.dt.month == 2) & (data1.time.dt.day == 29)))\n",
    "        \n",
    "    #select EOBS years\n",
    "    data_ssp = data1[data1.time.dt.year<=max_year_eobs]\n",
    "\n",
    "    #mask ocean data\n",
    "    data_ssp = np.where(mask==0,0,data_ssp)\n",
    "\n",
    "#concatenate \n",
    "data_model = np.concatenate((data_hist,data_ssp),axis=0)\n",
    "\n",
    "#conver model data to celsius, as eobs in celsius\n",
    "data_model = data_model -273.15\n",
    "\n",
    "#flatten lon/lat\n",
    "data_miroc_flat = data_model.reshape(data_model.shape[0],data_model.shape[1],-1)"
   ]
  },
  {
   "cell_type": "markdown",
   "id": "ebb7df3f-c86d-48f5-a55b-7a4c525c1ce3",
   "metadata": {},
   "source": [
    "# Compute anomalies"
   ]
  },
  {
   "cell_type": "code",
   "execution_count": 56,
   "id": "c79bb319-d98d-4cd5-9168-95ff8b22dce7",
   "metadata": {},
   "outputs": [
    {
     "name": "stderr",
     "output_type": "stream",
     "text": [
      "/tmp/ipykernel_524267/2633202034.py:2: FutureWarning: arrays to stack must be passed as a \"sequence\" type such as list or tuple. Support for non-sequence iterables such as generators is deprecated as of NumPy 1.16 and will raise an error in the future.\n",
      "  return np.hstack( a[i:1+i-r_window or None:stepsize] for i in range(0,r_window) )\n"
     ]
    }
   ],
   "source": [
    "#calculate running window ensemble mean and anomalies\n",
    "r_anomaly_output = copy.deepcopy(data_eobs_flat)\n",
    "for x in range(data_MPI_flat.shape[2]):\n",
    "    in_data_mpi = data_MPI_flat[:,:,x]\n",
    "    in_data_access = data_access_flat[:,:,x]\n",
    "    in_data_can = data_can_flat[:,:,x]\n",
    "    in_data_miroc = data_miroc_flat[:,:,x]\n",
    "    in_data_eobs = data_eobs_flat[:,x]\n",
    "    r_anomaly_output[:,x] = r_anomaly(in_data_mpi,in_data_access,in_data_can,in_data_miroc,in_data_eobs,window)\n",
    "    #print(x)\n",
    "\n",
    "#reshape to orignal dimensions       \n",
    "r_anomaly_output = r_anomaly_output.reshape(data_eobs.shape[0],data_eobs.shape[1],data_eobs.shape[2])"
   ]
  },
  {
   "cell_type": "code",
   "execution_count": 57,
   "id": "4d0fddc8-f50f-4448-844a-4806c3c1f3db",
   "metadata": {},
   "outputs": [
    {
     "name": "stdout",
     "output_type": "stream",
     "text": [
      "finished\n"
     ]
    }
   ],
   "source": [
    "# ------------------ save data -----------------------\n",
    "path = '/work/uo1075/u241308/reanalysis/eobs/eobs_hw_projections/'\n",
    "file = 'tasmax_1950_2022_GEgrid2_anomaly_detrended_multi_model.nc'\n",
    "data_eobs[:,:,:] = r_anomaly_output[:,:,:]\n",
    "data_eobs.to_netcdf(path+file)\n",
    "\n",
    "print('finished')"
   ]
  },
  {
   "cell_type": "code",
   "execution_count": null,
   "id": "7f366e55-10b3-4ea8-9941-1381173443a5",
   "metadata": {},
   "outputs": [],
   "source": []
  }
 ],
 "metadata": {
  "kernelspec": {
   "display_name": "1 Python 3 (based on the module python3/2023.01)",
   "language": "python",
   "name": "python3_2023_01"
  },
  "language_info": {
   "codemirror_mode": {
    "name": "ipython",
    "version": 3
   },
   "file_extension": ".py",
   "mimetype": "text/x-python",
   "name": "python",
   "nbconvert_exporter": "python",
   "pygments_lexer": "ipython3",
   "version": "3.10.10"
  }
 },
 "nbformat": 4,
 "nbformat_minor": 5
}
