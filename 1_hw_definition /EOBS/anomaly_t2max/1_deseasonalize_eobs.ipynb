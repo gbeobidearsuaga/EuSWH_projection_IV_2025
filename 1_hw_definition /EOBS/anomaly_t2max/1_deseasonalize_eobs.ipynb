{
 "cells": [
  {
   "cell_type": "code",
   "execution_count": 1,
   "id": "becb655c-62d3-45fd-b513-085050ca5917",
   "metadata": {
    "tags": []
   },
   "outputs": [],
   "source": [
    "import numpy as np\n",
    "import xarray as xr\n",
    "import copy "
   ]
  },
  {
   "cell_type": "code",
   "execution_count": null,
   "id": "ad0ce715-dea1-416b-a532-e11f823c1895",
   "metadata": {},
   "outputs": [],
   "source": [
    "#Use CDO for regridding data to MPI-GE grid\n",
    "#cdo -remapbil,MPI_GE_grid.txt in_file_original.nc out_file_GEgrid.nc"
   ]
  },
  {
   "cell_type": "code",
   "execution_count": 2,
   "id": "df581fab-272a-49cb-9d00-3a2c14424f3c",
   "metadata": {
    "tags": []
   },
   "outputs": [],
   "source": [
    "stepsize = 1\n",
    "window = 15\n",
    "start = int((window-1)/2)\n",
    "ref_min = 1985\n",
    "ref_max = 2014"
   ]
  },
  {
   "cell_type": "code",
   "execution_count": 3,
   "id": "4be4c686-ca94-45c3-8d9a-ad85ebe1d53b",
   "metadata": {},
   "outputs": [],
   "source": [
    "# compute climatology\n",
    "path = '/work/uo1075/u241308/reanalysis/eobs/eobs_hw_projections/'\n",
    "file = 'tasmax_1950_2022_GEgrid2.nc'\n",
    "\n",
    "with xr.open_dataset(path+file) as data1:\n",
    "    data1 = data1.tx\n",
    "    #Get rid off 29th of februarys\n",
    "    data1 = data1.sel(time=~((data1.time.dt.month == 2) & (data1.time.dt.day == 29)))\n",
    "\n",
    "#flatten lon/lat\n",
    "data_flat = data1.values.reshape(data1.shape[0],-1) \n",
    "\n",
    "#calculate the climatology for the reference time\n",
    "climatology = []\n",
    "r_steps = 365-window+1 #number of different running windows\n",
    "for r in range(r_steps):\n",
    "    sel_days = []\n",
    "    for y in range(ref_min,ref_max+1):\n",
    "        data_sel = data_flat[(data1.time.dt.year==y)]\n",
    "        data_sel = data_sel[r:r+window]\n",
    "        sel_days.append(data_sel)\n",
    "    \n",
    "    sel_days_mean = np.array(sel_days).mean(axis=(0,1))\n",
    "    climatology.append(sel_days_mean)\n",
    "climatology = np.array(climatology)\n",
    "\n",
    "climatology_complete = np.zeros((365,climatology.shape[1])) #fill values missing due to running window\n",
    "start = int((window-1)/2)\n",
    "climatology_complete[:start] = climatology[0]\n",
    "climatology_complete[-start:] = climatology[-1]\n",
    "climatology_complete[start:-start] = climatology"
   ]
  },
  {
   "cell_type": "code",
   "execution_count": 4,
   "id": "f96cf39a-3da8-4d8b-a1d6-3e24dc69ea19",
   "metadata": {
    "tags": []
   },
   "outputs": [],
   "source": [
    "#reshape lon/lat to original format\n",
    "climatology_expanded = climatology_complete.reshape(-1,data1.shape[1],data1.shape[2])\n",
    "    \n",
    "#calculate anomalies\n",
    "for y in np.unique(data1.time.dt.year):\n",
    "    year_sel = data1[data1.time.dt.year==y].values\n",
    "    anomalies1 = year_sel - climatology_expanded\n",
    "    data1[data1.time.dt.year==y] = anomalies1\n",
    "\n",
    "# ------------------ save data -----------------------\n",
    "path = '/work/uo1075/u241308/reanalysis/eobs/eobs_hw_projections/'\n",
    "file = 'tasmax_1950_2022_GEgrid2_anomaly.nc'\n",
    "data1.to_netcdf(path+file)"
   ]
  },
  {
   "cell_type": "code",
   "execution_count": null,
   "id": "e6a00a1e-8817-4ee8-8b41-13f17b0e533f",
   "metadata": {},
   "outputs": [],
   "source": []
  }
 ],
 "metadata": {
  "kernelspec": {
   "display_name": "1 Python 3 (based on the module python3/2023.01)",
   "language": "python",
   "name": "python3_2023_01"
  },
  "language_info": {
   "codemirror_mode": {
    "name": "ipython",
    "version": 3
   },
   "file_extension": ".py",
   "mimetype": "text/x-python",
   "name": "python",
   "nbconvert_exporter": "python",
   "pygments_lexer": "ipython3",
   "version": "3.10.10"
  }
 },
 "nbformat": 4,
 "nbformat_minor": 5
}
