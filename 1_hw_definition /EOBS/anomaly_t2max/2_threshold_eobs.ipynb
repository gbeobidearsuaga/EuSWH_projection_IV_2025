{
 "cells": [
  {
   "cell_type": "code",
   "execution_count": 1,
   "id": "8bef9dd5-3553-43d3-b453-7527eb3881d3",
   "metadata": {},
   "outputs": [],
   "source": [
    "f_path = '/home/u/u241308/script_python/gb_functions'\n",
    "import sys\n",
    "sys.path.insert(1, f_path)\n",
    "import gb_threshold_optimized as gb_thr \n",
    "\n",
    "#gb_threshold_moving_day (data,percentile,percentile_window_day,position_day,percentile_window_year,position_year):\n",
    "\n",
    "import numpy as np\n",
    "import xarray as xr\n",
    "import copy"
   ]
  },
  {
   "cell_type": "code",
   "execution_count": 2,
   "id": "a213587e-6bcf-4174-baca-2d5031df36ad",
   "metadata": {},
   "outputs": [],
   "source": [
    "#HW parameters\n",
    "day_window = 15\n",
    "percentile = 90 #95\n",
    "\n",
    "#reference time\n",
    "ref_min = 1985\n",
    "ref_max = 2014"
   ]
  },
  {
   "cell_type": "code",
   "execution_count": 3,
   "id": "b0f91580-8e83-443c-a74a-ff02cb441909",
   "metadata": {
    "tags": []
   },
   "outputs": [],
   "source": [
    "#import data\n",
    "path = '/work/uo1075/u241308/reanalysis/eobs/eobs_hw_projections/'\n",
    "file = 'tasmax_1950_2022_GEgrid2_anomaly.nc'\n",
    "\n",
    "with xr.open_dataset(path+file) as data1:\n",
    "    data1 = data1.tx\n",
    "    data1 = data1[(data1.time.dt.year>=ref_min)&(data1.time.dt.year<=ref_max)]\n",
    "    \n",
    "    #Get rid off 29th of februarys\n",
    "    data1 = data1.sel(time=~((data1.time.dt.month == 2) & (data1.time.dt.day == 29)))\n",
    "    \n",
    "    #compute threshold\n",
    "    threshold_fix_day = gb_thr.gb_threshold_fixed_day(data1,percentile,day_window,'centered')\n",
    "    threshold_fix_day2 = copy.deepcopy(data1)\n",
    "    threshold_fix_day2[:,:,:] = threshold_fix_day\n",
    "    \n",
    "    #save data\n",
    "    path = '/work/uo1075/u241308/data_python/HW_extension/eobs/'\n",
    "    file = 'threshold_%s'%percentile+ '_fix_day_eobs_ref_%i'%ref_min + '-%i_anomaly.nc'%ref_max    \n",
    "    threshold_fix_day2.to_netcdf(path+file)"
   ]
  },
  {
   "cell_type": "code",
   "execution_count": 4,
   "id": "cc465b93-a20f-479f-a245-b0e21d3cb926",
   "metadata": {
    "tags": []
   },
   "outputs": [
    {
     "name": "stdout",
     "output_type": "stream",
     "text": [
      "code done\n"
     ]
    }
   ],
   "source": [
    "print('code done')"
   ]
  },
  {
   "cell_type": "code",
   "execution_count": null,
   "id": "cfafd5d9-5486-4bf1-bbf6-422d91de7126",
   "metadata": {},
   "outputs": [],
   "source": []
  }
 ],
 "metadata": {
  "kernelspec": {
   "display_name": "my_env2",
   "language": "python",
   "name": "my_env2"
  },
  "language_info": {
   "codemirror_mode": {
    "name": "ipython",
    "version": 3
   },
   "file_extension": ".py",
   "mimetype": "text/x-python",
   "name": "python",
   "nbconvert_exporter": "python",
   "pygments_lexer": "ipython3",
   "version": "3.6.11"
  }
 },
 "nbformat": 4,
 "nbformat_minor": 5
}
