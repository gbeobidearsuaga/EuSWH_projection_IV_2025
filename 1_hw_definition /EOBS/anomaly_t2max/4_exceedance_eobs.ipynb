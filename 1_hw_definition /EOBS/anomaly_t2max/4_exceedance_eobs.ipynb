{
 "cells": [
  {
   "cell_type": "code",
   "execution_count": 5,
   "id": "da2160f1-10ec-41d5-82c3-df0c4ab4449a",
   "metadata": {},
   "outputs": [],
   "source": [
    "f_path = '/home/u/u241308/script_python/gb_functions'\n",
    "import sys\n",
    "sys.path.insert(1, f_path)\n",
    "import gb_hwdetect_optimized as gb_hw\n",
    "\n",
    "import numpy as np\n",
    "import matplotlib.pyplot as plt\n",
    "from matplotlib.pyplot import figure\n",
    "import xarray as xr\n",
    "import copy\n",
    "import cartopy.crs as ccrs\n",
    "import cartopy.feature as cfeature\n",
    "import matplotlib.ticker as mticker\n",
    "from math import sin, cos, sqrt, atan2, radians"
   ]
  },
  {
   "cell_type": "code",
   "execution_count": 6,
   "id": "02616b6c-b815-4fc2-aa7d-ab22f3b33ecf",
   "metadata": {},
   "outputs": [],
   "source": [
    "#reference time\n",
    "ref_min = 1985\n",
    "ref_max = 2014\n",
    "\n",
    "# Consecutive days for heatwave detection\n",
    "c_days = 6\n",
    "\n",
    "# Threshold percentile\n",
    "percentile = 90 #95\n",
    "\n",
    "#Definition type: daily moving threshold (mov_day) or JA moving threshold (mov_JA)\n",
    "def_type = 'fix_day' #'mov_JA'"
   ]
  },
  {
   "cell_type": "code",
   "execution_count": 7,
   "id": "c9f96e24-d2e4-4d64-b98f-04348dbf92c9",
   "metadata": {},
   "outputs": [],
   "source": [
    "#load t2max\n",
    "path = '/work/uo1075/u241308/reanalysis/eobs/eobs_hw_projections/'\n",
    "file = 'tasmax_1950_2022_GEgrid2_anomaly.nc'\n",
    "with xr.open_dataset(path+file) as data1:\n",
    "    data1 = data1.tx\n",
    "    \n",
    "    #Get rid off 29th of februarys\n",
    "    data1 = data1.sel(time=~((data1.time.dt.month == 2) & (data1.time.dt.day == 29)))\n",
    "    \n",
    "#load threshold\n",
    "path = '/work/uo1075/u241308/data_python/HW_extension/eobs/'\n",
    "file = 'threshold_%s'%percentile+ '_fix_day_eobs_ref_%i'%ref_min + '-%i_anomaly.nc'%ref_max  \n",
    "with xr.open_dataset(path+file) as threshold:\n",
    "    threshold = threshold.tx\n",
    "    \n",
    "    #select one year (all years are the same in fix_day)\n",
    "    threshold = threshold[(threshold.time.dt.year==threshold.time.dt.year.min())].values\n",
    "    \n",
    "    #expand threhsold to dimensions of data1\n",
    "    year_number = np.unique(data1.time.dt.year).shape[0]\n",
    "    threshold_complete = copy.deepcopy(data1)\n",
    "    threshold_complete[:,:,:] = np.tile(threshold,(year_number,1,1))\n",
    "    \n",
    "#load hw_detect\n",
    "path = '/work/uo1075/u241308/data_python/HW_extension/eobs/'\n",
    "file = 'hw_detect_%id'%c_days +'_%s'%percentile+ '_' + def_type + '_eobs_ref_%i'%ref_min + '-%i_anomaly.nc'%ref_max    \n",
    "with xr.open_dataset(path+file) as hw_detect:\n",
    "    hw_detect = hw_detect.tx"
   ]
  },
  {
   "cell_type": "code",
   "execution_count": 8,
   "id": "0e4fd298-03a5-4c4d-b449-2cf375065a33",
   "metadata": {},
   "outputs": [],
   "source": [
    "data_exceed = data1 - threshold_complete\n",
    "data_exceed = xr.where(hw_detect==1,data_exceed,0)"
   ]
  },
  {
   "cell_type": "code",
   "execution_count": 9,
   "id": "e8700636-15b8-4670-b36a-0960338d4b39",
   "metadata": {},
   "outputs": [],
   "source": [
    "#longitude weight: cosine of the latitude\n",
    "grid_weight2 = np.zeros((len(data1.lat),len(data1.lon)))\n",
    "for y in range(0,len(data1.lat)):\n",
    "    grid_weight2[y,:] = cos(radians(data1.lat[y]))\n",
    "    \n",
    "grid_weight2 = np.repeat(grid_weight2[np.newaxis,:,:],data_exceed.shape[0],axis=0)"
   ]
  },
  {
   "cell_type": "code",
   "execution_count": 10,
   "id": "f3f894e9-0518-451e-ab79-52902c7595d3",
   "metadata": {},
   "outputs": [],
   "source": [
    "#weight the grid exceedance\n",
    "data_exceed_weighted = copy.deepcopy(data_exceed)\n",
    "data_exceed_weighted[:,:,:] = np.multiply(data_exceed,grid_weight2)"
   ]
  },
  {
   "cell_type": "code",
   "execution_count": 11,
   "id": "abde3afc-1e75-4e77-8b5f-84817bb1fcdc",
   "metadata": {},
   "outputs": [],
   "source": [
    "#EOBS has already correct longitude grids, lines below not neccessary\n",
    "\n",
    "##Define new longitudes: from 0,360 to -180,180\n",
    "#data_exceed_weighted['lon'] = np.where(data_exceed_weighted.lon >180, data_exceed_weighted.lon-360,data_exceed_weighted.lon)\n",
    "#ind = np.argsort(data_exceed_weighted.lon)\n",
    "#ind.values\n",
    "#data_exceed_weighted = data_exceed_weighted[:,:,ind.values]"
   ]
  },
  {
   "cell_type": "code",
   "execution_count": 12,
   "id": "70e6b24a-9c2f-4a6d-b02d-75c59e500ea4",
   "metadata": {
    "tags": []
   },
   "outputs": [
    {
     "data": {
      "text/plain": [
       "<matplotlib.colorbar.Colorbar at 0x7fffbf8c15c0>"
      ]
     },
     "execution_count": 12,
     "metadata": {},
     "output_type": "execute_result"
    },
    {
     "data": {
      "image/png": "[encoded data removed]",
      "text/plain": [
       "<Figure size 432x288 with 2 Axes>"
      ]
     },
     "metadata": {
      "needs_background": "light"
     },
     "output_type": "display_data"
    }
   ],
   "source": [
    "year_sel = 2003\n",
    "joker = data_exceed_weighted.resample(time='y').sum()\n",
    "joker = joker[joker.time.dt.year==year_sel,:,:]\n",
    "plt.pcolormesh(data_exceed_weighted.lon,data_exceed_weighted.lat,joker[0,:,:])\n",
    "plt.colorbar()"
   ]
  },
  {
   "cell_type": "code",
   "execution_count": 13,
   "id": "59125193-28c5-4372-8c54-7f56265df7b4",
   "metadata": {
    "tags": []
   },
   "outputs": [],
   "source": [
    "#save data\n",
    "path = '/work/uo1075/u241308/data_python/HW_extension/eobs/'\n",
    "file = 'data_exceed_lonlat_weighted_%s' %percentile + 'pct_%s' %c_days + 'd_' + def_type + '_eobs_ref_%i'%ref_min + '-%i_anomaly.nc'%ref_max  \n",
    "data_exceed_weighted.to_netcdf(path+file)"
   ]
  },
  {
   "cell_type": "code",
   "execution_count": null,
   "id": "7bfa253c-85a4-45ec-a2f0-8a657bbf1472",
   "metadata": {},
   "outputs": [],
   "source": []
  }
 ],
 "metadata": {
  "kernelspec": {
   "display_name": "my_env2",
   "language": "python",
   "name": "my_env2"
  },
  "language_info": {
   "codemirror_mode": {
    "name": "ipython",
    "version": 3
   },
   "file_extension": ".py",
   "mimetype": "text/x-python",
   "name": "python",
   "nbconvert_exporter": "python",
   "pygments_lexer": "ipython3",
   "version": "3.6.11"
  }
 },
 "nbformat": 4,
 "nbformat_minor": 5
}
