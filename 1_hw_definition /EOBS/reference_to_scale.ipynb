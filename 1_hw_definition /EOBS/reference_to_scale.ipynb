{
 "cells": [
  {
   "cell_type": "code",
   "execution_count": 2,
   "id": "63f9cfe0-a78c-49a9-810d-d28b7bcfc66f",
   "metadata": {},
   "outputs": [],
   "source": [
    "import xarray as xr\n",
    "import numpy as np"
   ]
  },
  {
   "cell_type": "code",
   "execution_count": 3,
   "id": "b3ca8a92-f9a8-468a-8298-8601e81acf2d",
   "metadata": {},
   "outputs": [],
   "source": [
    "#reference time\n",
    "ref_min = 1985\n",
    "ref_max = 2014\n",
    "\n",
    "# Consecutive days for heatwave detection\n",
    "c_days = 6\n",
    "\n",
    "# Threshold percentile\n",
    "percentile = 90 #95\n",
    "\n",
    "#Definition type: daily moving threshold (mov_day) or JA moving threshold (mov_JA)\n",
    "def_type = 'fix_day' #'mov_JA'"
   ]
  },
  {
   "cell_type": "markdown",
   "id": "a6c43bf6-893e-4b28-81aa-b54683dcdfa6",
   "metadata": {},
   "source": [
    "# Non-detrended"
   ]
  },
  {
   "cell_type": "code",
   "execution_count": 4,
   "id": "5f8a2d76-cf1d-4cd4-ae6a-300edf66bdda",
   "metadata": {},
   "outputs": [],
   "source": [
    "# Europe domain\n",
    "lon_min = -10\n",
    "lon_max = 30\n",
    "lat_min = 35 #36.5 if we want to compute trend: northern african part is mixed with nan and not nans..\n",
    "lat_max = 70\n",
    "\n",
    "path = '/work/uo1075/u241308/data_python/HW_extension/eobs/'\n",
    "file = 'data_exceed_lonlat_weighted_%s' %percentile + 'pct_%s' %c_days + 'd_' + def_type + '_eobs_ref_%i'%ref_min + '-%i_anomaly.nc'%ref_max  \n",
    "\n",
    "eobs = xr.open_dataset(path+file)\n",
    "eobs = eobs.tx\n",
    "eobs = eobs[(eobs.time.dt.month==6)|(eobs.time.dt.month==7)|(eobs.time.dt.month==8)].resample(time='Y').sum()\n",
    "\n",
    "#select european domain\n",
    "eobs = eobs[:,(eobs.lat>=lat_min)&(eobs.lat<=lat_max),(eobs.lon>=lon_min)&(eobs.lon<=lon_max)]\n",
    "\n",
    "#select reference years\n",
    "eobs = eobs[(eobs.time.dt.year>=ref_min)&(eobs.time.dt.year<=ref_max)]"
   ]
  },
  {
   "cell_type": "code",
   "execution_count": 14,
   "id": "805eaa4e-bb2f-4fe2-b4b0-745860e1c4d4",
   "metadata": {},
   "outputs": [],
   "source": [
    "#Europe mean\n",
    "eobs_europe = eobs.sum(axis=(1,2)).mean(axis=0)\n",
    "\n",
    "#Gridpoint level mean\n",
    "eobs_gridpoint = eobs.mean(axis=0)"
   ]
  },
  {
   "cell_type": "code",
   "execution_count": 17,
   "id": "6ce28320-d5d1-44b8-92bf-9312aba99320",
   "metadata": {},
   "outputs": [],
   "source": [
    "#save data\n",
    "path = '/work/uo1075/u241308/data_python/HW_extension/eobs/'\n",
    "\n",
    "file = 'data_exceed_lonlat_weighted_%s' %percentile + 'pct_%s' %c_days + 'd_' + def_type + '_eobs_ref_%i'%ref_min + '-%i_anomaly_mean.nc'%ref_max  \n",
    "eobs_europe.to_netcdf(path+file)\n",
    "\n",
    "file = 'data_exceed_lonlat_weighted_%s' %percentile + 'pct_%s' %c_days + 'd_' + def_type + '_eobs_ref_%i'%ref_min + '-%i_anomaly_mean_gridpoint.nc'%ref_max  \n",
    "eobs_gridpoint.to_netcdf(path+file)"
   ]
  },
  {
   "cell_type": "markdown",
   "id": "31f0d2d7-8026-431e-a1d5-d2d41e5912e0",
   "metadata": {},
   "source": [
    "# Detrended"
   ]
  },
  {
   "cell_type": "code",
   "execution_count": 5,
   "id": "1444d1e4-f5d1-43e4-afe2-5aa0676498de",
   "metadata": {},
   "outputs": [],
   "source": [
    "path = '/work/uo1075/u241308/data_python/HW_extension/eobs/'\n",
    "file = 'data_exceed_lonlat_weighted_%s' %percentile + 'pct_%s' %c_days + 'd_' + def_type + '_eobs_ref_%i'%ref_min + '-%i_anomaly_detrended_multi_model.nc'%ref_max  \n",
    "\n",
    "eobs = xr.open_dataset(path+file)\n",
    "eobs = eobs.tx\n",
    "eobs = eobs[(eobs.time.dt.month==6)|(eobs.time.dt.month==7)|(eobs.time.dt.month==8)].resample(time='Y').sum()\n",
    "\n",
    "#select european domain\n",
    "eobs = eobs[:,(eobs.lat>=lat_min)&(eobs.lat<=lat_max),(eobs.lon>=lon_min)&(eobs.lon<=lon_max)]\n",
    "\n",
    "#select reference years\n",
    "eobs = eobs[(eobs.time.dt.year>=ref_min)&(eobs.time.dt.year<=ref_max)]"
   ]
  },
  {
   "cell_type": "code",
   "execution_count": 6,
   "id": "7e8c188a-c089-4045-869a-1e4a830156b2",
   "metadata": {},
   "outputs": [],
   "source": [
    "#Europe mean\n",
    "eobs_europe = eobs.sum(axis=(1,2)).mean(axis=0)\n",
    "\n",
    "#Gridpoint level mean\n",
    "eobs_gridpoint = eobs.mean(axis=0)"
   ]
  },
  {
   "cell_type": "code",
   "execution_count": 7,
   "id": "547efcde-7637-4200-9267-9d7058d1f1ee",
   "metadata": {},
   "outputs": [],
   "source": [
    "#save data\n",
    "path = '/work/uo1075/u241308/data_python/HW_extension/eobs/'\n",
    "\n",
    "file = 'data_exceed_lonlat_weighted_%s' %percentile + 'pct_%s' %c_days + 'd_' + def_type + '_eobs_ref_%i'%ref_min + '-%i_anomaly_detrended_multi_model_mean.nc'%ref_max  \n",
    "eobs_europe.to_netcdf(path+file)\n",
    "\n",
    "file = 'data_exceed_lonlat_weighted_%s' %percentile + 'pct_%s' %c_days + 'd_' + def_type + '_eobs_ref_%i'%ref_min + '-%i_anomaly_detrended_multi_model_mean_gridpoint.nc'%ref_max  \n",
    "eobs_gridpoint.to_netcdf(path+file)"
   ]
  },
  {
   "cell_type": "code",
   "execution_count": null,
   "id": "fa58de23-203c-4505-900a-436c267ca762",
   "metadata": {},
   "outputs": [],
   "source": []
  }
 ],
 "metadata": {
  "kernelspec": {
   "display_name": "1 Python 3 (based on the module python3/2023.01)",
   "language": "python",
   "name": "python3_2023_01"
  },
  "language_info": {
   "codemirror_mode": {
    "name": "ipython",
    "version": 3
   },
   "file_extension": ".py",
   "mimetype": "text/x-python",
   "name": "python",
   "nbconvert_exporter": "python",
   "pygments_lexer": "ipython3",
   "version": "3.10.10"
  }
 },
 "nbformat": 4,
 "nbformat_minor": 5
}
