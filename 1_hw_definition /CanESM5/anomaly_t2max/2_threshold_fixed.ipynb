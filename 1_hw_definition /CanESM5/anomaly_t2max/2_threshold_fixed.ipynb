{
 "cells": [
  {
   "cell_type": "code",
   "execution_count": 1,
   "id": "8bef9dd5-3553-43d3-b453-7527eb3881d3",
   "metadata": {},
   "outputs": [],
   "source": [
    "f_path = '/home/u/u241308/script_python/gb_functions'\n",
    "import sys\n",
    "sys.path.insert(1, f_path)\n",
    "import gb_threshold_optimized as gb_thr \n",
    "\n",
    "#gb_threshold_moving_day (data,percentile,percentile_window_day,position_day,percentile_window_year,position_year):\n",
    "\n",
    "import numpy as np\n",
    "import xarray as xr\n",
    "import copy"
   ]
  },
  {
   "cell_type": "code",
   "execution_count": 6,
   "id": "cabf7b44-6d9b-4230-bfb3-44ed20558973",
   "metadata": {},
   "outputs": [],
   "source": [
    "model = 'CanESM5'\n",
    "ens_number2 = '50'\n",
    "ens_number = 50"
   ]
  },
  {
   "cell_type": "code",
   "execution_count": 7,
   "id": "c90f143d-b49c-41e8-941c-89f7e6bf0c5c",
   "metadata": {
    "tags": []
   },
   "outputs": [],
   "source": [
    "#HW parameters\n",
    "day_window = 15\n",
    "percentile = 90\n",
    "\n",
    "#reference time\n",
    "ref_min = 1985\n",
    "ref_max = 2014"
   ]
  },
  {
   "cell_type": "code",
   "execution_count": 8,
   "id": "f0c4ea3b-4fca-407e-9abd-44294ffb83b3",
   "metadata": {},
   "outputs": [],
   "source": [
    "def run_hw_threshold(ens_id,day_window,percentile,ref_min,ref_max):\n",
    "\n",
    "    n_run = 'historical' #it's a fixed threshold, we only need historical data\n",
    "    #import data\n",
    "    path = '/work/uo1075/u241308/SMILE/'+model+'/tasmax/'\n",
    "    file = model+'_Tmax_'+n_run+'_dm_ens_1-'+ens_number2+'_GEgrid_land_europe_anomaly.nc'\n",
    "    \n",
    "    with xr.open_dataset(path+file) as data1:\n",
    "        data1 = data1.tasmax\n",
    "        data1 = data1[(data1.time.dt.year>=ref_min)&(data1.time.dt.year<=ref_max)]\n",
    "\n",
    "        #Select ensemble members\n",
    "        data1 = data1[:,ens_id,:,:]\n",
    "        \n",
    "        #Get rid off 29th of februarys\n",
    "        data1 = data1.sel(time=~((data1.time.dt.month == 2) & (data1.time.dt.day == 29)))\n",
    "        \n",
    "        #compute threshold\n",
    "        threshold_fix_day = gb_thr.gb_threshold_fixed_day(data1,percentile,day_window,'centered')\n",
    "        threshold_fix_day2 = copy.deepcopy(data1)\n",
    "        threshold_fix_day2[:,:,:] = threshold_fix_day\n",
    "        \n",
    "    return threshold_fix_day2\n",
    "    #print('Ens %i done'%ens)"
   ]
  },
  {
   "cell_type": "code",
   "execution_count": 9,
   "id": "1e4d4bdb-d5fa-47c1-a58d-93c6f2eaa191",
   "metadata": {},
   "outputs": [
    {
     "name": "stdout",
     "output_type": "stream",
     "text": [
      "Ens 0 done\n",
      "Ens 1 done\n",
      "Ens 2 done\n",
      "Ens 3 done\n",
      "Ens 4 done\n",
      "Ens 5 done\n",
      "Ens 6 done\n",
      "Ens 7 done\n",
      "Ens 8 done\n",
      "Ens 9 done\n",
      "Ens 10 done\n",
      "Ens 11 done\n",
      "Ens 12 done\n",
      "Ens 13 done\n",
      "Ens 14 done\n",
      "Ens 15 done\n",
      "Ens 16 done\n",
      "Ens 17 done\n",
      "Ens 18 done\n",
      "Ens 19 done\n",
      "Ens 20 done\n",
      "Ens 21 done\n",
      "Ens 22 done\n",
      "Ens 23 done\n",
      "Ens 24 done\n",
      "Ens 25 done\n",
      "Ens 26 done\n",
      "Ens 27 done\n",
      "Ens 28 done\n",
      "Ens 29 done\n",
      "Ens 30 done\n",
      "Ens 31 done\n",
      "Ens 32 done\n",
      "Ens 33 done\n",
      "Ens 34 done\n",
      "Ens 35 done\n",
      "Ens 36 done\n",
      "Ens 37 done\n",
      "Ens 38 done\n",
      "Ens 39 done\n",
      "Ens 40 done\n",
      "Ens 41 done\n",
      "Ens 42 done\n",
      "Ens 43 done\n",
      "Ens 44 done\n",
      "Ens 45 done\n",
      "Ens 46 done\n",
      "Ens 47 done\n",
      "Ens 48 done\n",
      "Ens 49 done\n"
     ]
    }
   ],
   "source": [
    "for ens in range(ens_number):\n",
    "    threshold = run_hw_threshold(ens,day_window,percentile,ref_min,ref_max)\n",
    "    \n",
    "    #save data\n",
    "    path = '/work/uo1075/u241308/data_python/HW_extension/'+model+'/anomaly/threshold/'\n",
    "    file = 'threshold_%s'%percentile+ '_fix_day_'+model+'_ref_%i'%ref_min + '-%i'%ref_max + '_ensemble_%i_anomaly.nc'%ens     \n",
    "    threshold.to_netcdf(path+file)\n",
    "    \n",
    "    print('Ens %i done'%ens)"
   ]
  },
  {
   "cell_type": "code",
   "execution_count": null,
   "id": "4645d176-872b-4c59-998a-fc2c8823bb59",
   "metadata": {},
   "outputs": [],
   "source": []
  }
 ],
 "metadata": {
  "kernelspec": {
   "display_name": "my_env2",
   "language": "python",
   "name": "my_env2"
  },
  "language_info": {
   "codemirror_mode": {
    "name": "ipython",
    "version": 3
   },
   "file_extension": ".py",
   "mimetype": "text/x-python",
   "name": "python",
   "nbconvert_exporter": "python",
   "pygments_lexer": "ipython3",
   "version": "3.6.11"
  }
 },
 "nbformat": 4,
 "nbformat_minor": 5
}
