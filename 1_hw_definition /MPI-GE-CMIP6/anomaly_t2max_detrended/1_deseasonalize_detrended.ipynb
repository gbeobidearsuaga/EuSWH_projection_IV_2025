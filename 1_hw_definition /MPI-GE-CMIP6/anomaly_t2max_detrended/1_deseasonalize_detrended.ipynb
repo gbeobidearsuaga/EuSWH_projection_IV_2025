{
 "cells": [
  {
   "cell_type": "code",
   "execution_count": 1,
   "id": "becb655c-62d3-45fd-b513-085050ca5917",
   "metadata": {
    "tags": []
   },
   "outputs": [],
   "source": [
    "import numpy as np\n",
    "import xarray as xr\n",
    "import copy "
   ]
  },
  {
   "cell_type": "code",
   "execution_count": 2,
   "id": "822470f6-7c3f-42a4-a042-c4cafe82a547",
   "metadata": {},
   "outputs": [],
   "source": [
    "def window_stack(a, stepsize, window):\n",
    "    return np.hstack( a[i:1+i-window or None:stepsize] for i in range(0,window) )\n"
   ]
  },
  {
   "cell_type": "code",
   "execution_count": 3,
   "id": "a0f421b7-debe-4a6e-8bb3-c02195a3ea7f",
   "metadata": {
    "tags": []
   },
   "outputs": [],
   "source": [
    "def r_anomaly(in_data,r_window):\n",
    "    r_window_data = window_stack(in_data,1,window) #get data for running windows\n",
    "    r_mean = r_window_data.mean(axis=1) #average over the each window\n",
    "    \n",
    "    #subtract mean to original data\n",
    "    start = int((window-1)/2)\n",
    "    in_data[:start]= in_data[:start]-r_mean[0] #first missing values\n",
    "    in_data[-start:] = in_data[-start:]-r_mean[-1] #last missing values\n",
    "    in_data[start:-start] = in_data[start:-start,:]-np.repeat(r_mean[:,np.newaxis],in_data.shape[1],axis=1) #middle values\n",
    "    return(in_data)"
   ]
  },
  {
   "cell_type": "code",
   "execution_count": 4,
   "id": "df581fab-272a-49cb-9d00-3a2c14424f3c",
   "metadata": {
    "tags": []
   },
   "outputs": [],
   "source": [
    "stepsize = 1\n",
    "window = 15\n",
    "start = int((window-1)/2)"
   ]
  },
  {
   "cell_type": "code",
   "execution_count": 5,
   "id": "e2a7d3e5-a1f6-4323-a36e-33413adc6670",
   "metadata": {
    "tags": []
   },
   "outputs": [],
   "source": [
    "run = ['HIST','ssp119','ssp126','ssp245','ssp370','ssp585']"
   ]
  },
  {
   "cell_type": "code",
   "execution_count": 6,
   "id": "f96cf39a-3da8-4d8b-a1d6-3e24dc69ea19",
   "metadata": {
    "tags": []
   },
   "outputs": [
    {
     "name": "stderr",
     "output_type": "stream",
     "text": [
      "/tmp/ipykernel_447231/2570541340.py:2: FutureWarning: arrays to stack must be passed as a \"sequence\" type such as list or tuple. Support for non-sequence iterables such as generators is deprecated as of NumPy 1.16 and will raise an error in the future.\n",
      "  return np.hstack( a[i:1+i-window or None:stepsize] for i in range(0,window) )\n"
     ]
    },
    {
     "name": "stdout",
     "output_type": "stream",
     "text": [
      "HIST finished\n"
     ]
    },
    {
     "name": "stderr",
     "output_type": "stream",
     "text": [
      "/tmp/ipykernel_447231/2570541340.py:2: FutureWarning: arrays to stack must be passed as a \"sequence\" type such as list or tuple. Support for non-sequence iterables such as generators is deprecated as of NumPy 1.16 and will raise an error in the future.\n",
      "  return np.hstack( a[i:1+i-window or None:stepsize] for i in range(0,window) )\n"
     ]
    },
    {
     "name": "stdout",
     "output_type": "stream",
     "text": [
      "ssp119 finished\n"
     ]
    },
    {
     "name": "stderr",
     "output_type": "stream",
     "text": [
      "/tmp/ipykernel_447231/2570541340.py:2: FutureWarning: arrays to stack must be passed as a \"sequence\" type such as list or tuple. Support for non-sequence iterables such as generators is deprecated as of NumPy 1.16 and will raise an error in the future.\n",
      "  return np.hstack( a[i:1+i-window or None:stepsize] for i in range(0,window) )\n"
     ]
    },
    {
     "name": "stdout",
     "output_type": "stream",
     "text": [
      "ssp126 finished\n"
     ]
    },
    {
     "name": "stderr",
     "output_type": "stream",
     "text": [
      "/tmp/ipykernel_447231/2570541340.py:2: FutureWarning: arrays to stack must be passed as a \"sequence\" type such as list or tuple. Support for non-sequence iterables such as generators is deprecated as of NumPy 1.16 and will raise an error in the future.\n",
      "  return np.hstack( a[i:1+i-window or None:stepsize] for i in range(0,window) )\n"
     ]
    },
    {
     "name": "stdout",
     "output_type": "stream",
     "text": [
      "ssp245 finished\n"
     ]
    },
    {
     "name": "stderr",
     "output_type": "stream",
     "text": [
      "/tmp/ipykernel_447231/2570541340.py:2: FutureWarning: arrays to stack must be passed as a \"sequence\" type such as list or tuple. Support for non-sequence iterables such as generators is deprecated as of NumPy 1.16 and will raise an error in the future.\n",
      "  return np.hstack( a[i:1+i-window or None:stepsize] for i in range(0,window) )\n"
     ]
    },
    {
     "name": "stdout",
     "output_type": "stream",
     "text": [
      "ssp370 finished\n"
     ]
    },
    {
     "name": "stderr",
     "output_type": "stream",
     "text": [
      "/tmp/ipykernel_447231/2570541340.py:2: FutureWarning: arrays to stack must be passed as a \"sequence\" type such as list or tuple. Support for non-sequence iterables such as generators is deprecated as of NumPy 1.16 and will raise an error in the future.\n",
      "  return np.hstack( a[i:1+i-window or None:stepsize] for i in range(0,window) )\n"
     ]
    },
    {
     "name": "stdout",
     "output_type": "stream",
     "text": [
      "ssp585 finished\n"
     ]
    }
   ],
   "source": [
    "for n_run in run:\n",
    "    # ------------------ Load first set -----------------------\n",
    "    path = '/work/uo1075/u241308/grand_ensemble_cmip6/t2max/'\n",
    "    file = 'nGE_Tmax_'+n_run+'_dm_land_europe.nc'\n",
    "    \n",
    "    with xr.open_dataset(path+file) as data1:\n",
    "        data1 = data1.tasmax\n",
    "        \n",
    "    # ------------------ Load second set -----------------------\n",
    "    path = '/work/uo1075/u241308/grand_ensemble_cmip6/t2max/ens31_50/'\n",
    "    file = 'nGE_Tmax_'+n_run+'_dm_ens_31-50_land_europe.nc'\n",
    "    \n",
    "    with xr.open_dataset(path+file) as data2:\n",
    "        data2 = data2.tasmax\n",
    "        \n",
    "    #concatenate over ensemble dimension\n",
    "    data = np.concatenate((data1.values,data2.values),axis=1)\n",
    "    \n",
    "    #flatten lon/lat\n",
    "    data_flat = data.reshape(data.shape[0],data.shape[1],-1) \n",
    "    \n",
    "    #calculate running window ensemble mean and anomalies\n",
    "    r_anomaly_output = copy.deepcopy(data_flat)\n",
    "    for x in range(data_flat.shape[2]):\n",
    "        in_data = data_flat[:,:,x]\n",
    "        r_anomaly_output[:,:,x] = r_anomaly(in_data,window)\n",
    "        #print(x)\n",
    "        \n",
    "    r_anomaly_output = r_anomaly_output.reshape(data.shape[0],data.shape[1],data.shape[2],data.shape[3])\n",
    "    \n",
    "    # ------------------ save data -----------------------\n",
    "    path = '/work/uo1075/u241308/data_python_PostDoc/MPI_GE_cmip6/t2max/'\n",
    "    \n",
    "    file = 'nGE_Tmax_'+n_run+'_dm_ens_0-30_land_europe_ens_mean_anomaly_detrend.nc'\n",
    "    data1[:,:,:,:] = r_anomaly_output[:,:30,:,:]\n",
    "    data1.to_netcdf(path+file)\n",
    "    \n",
    "    file = 'nGE_Tmax_'+n_run+'_dm_ens_31-50_land_europe_ens_mean_anomaly_detrend.nc'\n",
    "    data2[:,:,:,:] = r_anomaly_output[:,30:,:,:]\n",
    "    data2.to_netcdf(path+file)\n",
    "    \n",
    "    print(n_run + ' finished')"
   ]
  },
  {
   "cell_type": "code",
   "execution_count": null,
   "id": "46a0347a-6f88-41bd-bec5-0d45229054dc",
   "metadata": {},
   "outputs": [],
   "source": []
  }
 ],
 "metadata": {
  "kernelspec": {
   "display_name": "1 Python 3 (based on the module python3/2023.01)",
   "language": "python",
   "name": "python3_2023_01"
  },
  "language_info": {
   "codemirror_mode": {
    "name": "ipython",
    "version": 3
   },
   "file_extension": ".py",
   "mimetype": "text/x-python",
   "name": "python",
   "nbconvert_exporter": "python",
   "pygments_lexer": "ipython3",
   "version": "3.10.10"
  }
 },
 "nbformat": 4,
 "nbformat_minor": 5
}
