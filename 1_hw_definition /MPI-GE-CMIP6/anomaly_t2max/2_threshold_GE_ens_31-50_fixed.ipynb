{
 "cells": [
  {
   "cell_type": "code",
   "execution_count": 1,
   "id": "8bef9dd5-3553-43d3-b453-7527eb3881d3",
   "metadata": {},
   "outputs": [],
   "source": [
    "f_path = '/home/u/u241308/script_python/gb_functions'\n",
    "import sys\n",
    "sys.path.insert(1, f_path)\n",
    "import gb_threshold_optimized as gb_thr \n",
    "\n",
    "#gb_threshold_moving_day (data,percentile,percentile_window_day,position_day,percentile_window_year,position_year):\n",
    "\n",
    "import numpy as np\n",
    "import xarray as xr\n",
    "import copy"
   ]
  },
  {
   "cell_type": "code",
   "execution_count": 2,
   "id": "740fc550-babf-45b2-86b8-e7b4e9545be4",
   "metadata": {
    "tags": []
   },
   "outputs": [],
   "source": [
    "#HW parameters\n",
    "day_window = 15\n",
    "percentile = 90\n",
    "\n",
    "#reference time\n",
    "ref_min = 1985\n",
    "ref_max = 2014"
   ]
  },
  {
   "cell_type": "code",
   "execution_count": 3,
   "id": "f0c4ea3b-4fca-407e-9abd-44294ffb83b3",
   "metadata": {},
   "outputs": [],
   "source": [
    "def run_hw_threshold(ens_number,day_window,percentile,ref_min,ref_max):\n",
    "    \n",
    "    #import data\n",
    "    path = '/work/uo1075/u241308/data_python_PostDoc/MPI_GE_cmip6/t2max/'\n",
    "    file = 'nGE_Tmax_HIST_dm_ens_31-50_land_europe_ens_mean_anomaly.nc'\n",
    "    \n",
    "    with xr.open_dataset(path+file) as data1:\n",
    "        data1 = data1.tasmax\n",
    "        data1 = data1[(data1.time.dt.year>=ref_min)&(data1.time.dt.year<=ref_max)]\n",
    "    \n",
    "        #Select ensemble members\n",
    "        data1 = data1[:,ens,:,:]\n",
    "        \n",
    "        #Get rid off 29th of februarys\n",
    "        data1 = data1.sel(time=~((data1.time.dt.month == 2) & (data1.time.dt.day == 29)))\n",
    "        \n",
    "        #compute threshold\n",
    "        threshold_fix_day = gb_thr.gb_threshold_fixed_day(data1,percentile,day_window,'centered')\n",
    "        threshold_fix_day2 = copy.deepcopy(data1)\n",
    "        threshold_fix_day2[:,:,:] = threshold_fix_day\n",
    "        \n",
    "        ##save data\n",
    "        #path = '/work/uo1075/u241308/data_python/HW_extension/GE_cmip6/threshold/'\n",
    "        #file = 'threshold_%s'%percentile+ '_fix_day_GE_ref_%i'%ref_min + '-%i'%ref_max + '_ensemble_%i.nc'%ens     \n",
    "        #threshold_fix_day2.to_netcdf(path+file)\n",
    "     \n",
    "    return threshold_fix_day2\n",
    "    #print('Ens %i done'%ens)"
   ]
  },
  {
   "cell_type": "code",
   "execution_count": 4,
   "id": "1e4d4bdb-d5fa-47c1-a58d-93c6f2eaa191",
   "metadata": {},
   "outputs": [
    {
     "name": "stdout",
     "output_type": "stream",
     "text": [
      "Ens 0 done\n",
      "Ens 1 done\n",
      "Ens 2 done\n",
      "Ens 3 done\n",
      "Ens 4 done\n",
      "Ens 5 done\n",
      "Ens 6 done\n",
      "Ens 7 done\n",
      "Ens 8 done\n",
      "Ens 9 done\n",
      "Ens 10 done\n",
      "Ens 11 done\n",
      "Ens 12 done\n",
      "Ens 13 done\n",
      "Ens 14 done\n",
      "Ens 15 done\n",
      "Ens 16 done\n",
      "Ens 17 done\n",
      "Ens 18 done\n",
      "Ens 19 done\n"
     ]
    }
   ],
   "source": [
    "#ensemble number\n",
    "ens_start = 30\n",
    "ens_number = 20 #number of ensembles in total\n",
    "\n",
    "for ens in range(ens_number):\n",
    "    threshold = run_hw_threshold(ens,day_window,percentile,ref_min,ref_max)\n",
    "    \n",
    "    #save data\n",
    "    ens_save = ens + ens_start\n",
    "    path = '/work/uo1075/u241308/data_python/HW_extension/GE_cmip6/anomaly/threshold/'\n",
    "    file = 'threshold_%s'%percentile+ '_fix_day_GE_ref_%i'%ref_min + '-%i'%ref_max + '_ensemble_%i_anomaly.nc'%ens_save    \n",
    "    threshold.to_netcdf(path+file)\n",
    "    \n",
    "    print('Ens %i done'%ens)"
   ]
  },
  {
   "cell_type": "code",
   "execution_count": null,
   "id": "27f298cd-9cf7-4216-aa79-c08fda250e1c",
   "metadata": {},
   "outputs": [],
   "source": []
  }
 ],
 "metadata": {
  "kernelspec": {
   "display_name": "my_env2",
   "language": "python",
   "name": "my_env2"
  },
  "language_info": {
   "codemirror_mode": {
    "name": "ipython",
    "version": 3
   },
   "file_extension": ".py",
   "mimetype": "text/x-python",
   "name": "python",
   "nbconvert_exporter": "python",
   "pygments_lexer": "ipython3",
   "version": "3.6.11"
  }
 },
 "nbformat": 4,
 "nbformat_minor": 5
}
