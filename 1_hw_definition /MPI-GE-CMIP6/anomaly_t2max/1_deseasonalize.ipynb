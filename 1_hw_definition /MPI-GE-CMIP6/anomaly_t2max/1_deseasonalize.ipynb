{
 "cells": [
  {
   "cell_type": "code",
   "execution_count": 1,
   "id": "becb655c-62d3-45fd-b513-085050ca5917",
   "metadata": {
    "tags": []
   },
   "outputs": [],
   "source": [
    "import numpy as np\n",
    "import xarray as xr\n",
    "import copy "
   ]
  },
  {
   "cell_type": "code",
   "execution_count": 2,
   "id": "df581fab-272a-49cb-9d00-3a2c14424f3c",
   "metadata": {
    "tags": []
   },
   "outputs": [],
   "source": [
    "stepsize = 1\n",
    "window = 15\n",
    "start = int((window-1)/2)\n",
    "ref_min = 1985\n",
    "ref_max = 2014"
   ]
  },
  {
   "cell_type": "code",
   "execution_count": 3,
   "id": "4be4c686-ca94-45c3-8d9a-ad85ebe1d53b",
   "metadata": {},
   "outputs": [],
   "source": [
    "# compute climatology\n",
    "run = ['HIST']\n",
    "for n_run in run:\n",
    "    # ------------------ Load first set -----------------------\n",
    "    path = '/work/uo1075/u241308/grand_ensemble_cmip6/t2max/'\n",
    "    file = 'nGE_Tmax_'+n_run+'_dm_land_europe.nc'\n",
    "    \n",
    "    with xr.open_dataset(path+file) as data1:\n",
    "        data1 = data1.tasmax\n",
    "        #Get rid off 29th of februarys\n",
    "        data1 = data1.sel(time=~((data1.time.dt.month == 2) & (data1.time.dt.day == 29)))\n",
    "        \n",
    "    # ------------------ Load second set -----------------------\n",
    "    path = '/work/uo1075/u241308/grand_ensemble_cmip6/t2max/ens31_50/'\n",
    "    file = 'nGE_Tmax_'+n_run+'_dm_ens_31-50_land_europe.nc'\n",
    "    \n",
    "    with xr.open_dataset(path+file) as data2:\n",
    "        data2 = data2.tasmax\n",
    "        #Get rid off 29th of februarys\n",
    "        data2 = data2.sel(time=~((data2.time.dt.month == 2) & (data2.time.dt.day == 29)))\n",
    "        \n",
    "    #concatenate over ensemble dimension\n",
    "    data = np.concatenate((data1.values,data2.values),axis=1)\n",
    "    \n",
    "    #flatten lon/lat\n",
    "    data_flat = data.reshape(data.shape[0],data.shape[1],-1) \n",
    "    \n",
    "    #calculate the climatology for the reference time\n",
    "    if n_run == 'HIST':\n",
    "        climatology = []\n",
    "        r_steps = 365-window+1 #number of different running windows\n",
    "        for r in range(r_steps):\n",
    "            sel_days = []\n",
    "            for y in range(ref_min,ref_max+1):\n",
    "                data_sel = data_flat[(data1.time.dt.year==y)]\n",
    "                data_sel = data_sel[r:r+window]\n",
    "                sel_days.append(data_sel)\n",
    "            \n",
    "            sel_days_mean = np.array(sel_days).mean(axis=(0,1,2))\n",
    "            climatology.append(sel_days_mean)\n",
    "        climatology = np.array(climatology)\n",
    "\n",
    "        climatology_complete = np.zeros((365,climatology.shape[1])) #fill values missing due to running window\n",
    "        start = int((window-1)/2)\n",
    "        climatology_complete[:start] = climatology[0]\n",
    "        climatology_complete[-start:] = climatology[-1]\n",
    "        climatology_complete[start:-start] = climatology"
   ]
  },
  {
   "cell_type": "code",
   "execution_count": 4,
   "id": "e2a7d3e5-a1f6-4323-a36e-33413adc6670",
   "metadata": {
    "tags": []
   },
   "outputs": [],
   "source": [
    "run = ['HIST','ssp119','ssp126','ssp245','ssp370','ssp585']"
   ]
  },
  {
   "cell_type": "code",
   "execution_count": 5,
   "id": "f96cf39a-3da8-4d8b-a1d6-3e24dc69ea19",
   "metadata": {
    "tags": []
   },
   "outputs": [
    {
     "name": "stdout",
     "output_type": "stream",
     "text": [
      "HIST finished\n",
      "ssp119 finished\n",
      "ssp126 finished\n",
      "ssp245 finished\n",
      "ssp370 finished\n",
      "ssp585 finished\n"
     ]
    }
   ],
   "source": [
    "for n_run in run:\n",
    "    # ------------------ Load first set -----------------------\n",
    "    path = '/work/uo1075/u241308/grand_ensemble_cmip6/t2max/'\n",
    "    file = 'nGE_Tmax_'+n_run+'_dm_land_europe.nc'\n",
    "    \n",
    "    with xr.open_dataset(path+file) as data1:\n",
    "        data1 = data1.tasmax\n",
    "        #Get rid off 29th of februarys\n",
    "        data1 = data1.sel(time=~((data1.time.dt.month == 2) & (data1.time.dt.day == 29)))\n",
    "\n",
    "    #add ensemble dimension and reshape lon/lat to original format\n",
    "    climatology_expanded = np.repeat(climatology_complete[:,np.newaxis,:],data1.shape[1],axis=1)\n",
    "    climatology_expanded = climatology_expanded.reshape(-1,data1.shape[1],data1.shape[2],data1.shape[3])\n",
    "        \n",
    "    #calculate anomalies\n",
    "    for y in np.unique(data1.time.dt.year):\n",
    "        year_sel = data1[data1.time.dt.year==y].values\n",
    "        anomalies1 = year_sel - climatology_expanded\n",
    "        data1[data1.time.dt.year==y] = anomalies1\n",
    "\n",
    "\n",
    "    # ------------------ Load second set -----------------------\n",
    "    path = '/work/uo1075/u241308/grand_ensemble_cmip6/t2max/ens31_50/'\n",
    "    file = 'nGE_Tmax_'+n_run+'_dm_ens_31-50_land_europe.nc'\n",
    "    \n",
    "    with xr.open_dataset(path+file) as data2:\n",
    "        data2 = data2.tasmax\n",
    "        #Get rid off 29th of februarys\n",
    "        data2 = data2.sel(time=~((data2.time.dt.month == 2) & (data2.time.dt.day == 29)))\n",
    "\n",
    "    #add ensemble dimension and reshape lon/lat to original format\n",
    "    climatology_expanded = np.repeat(climatology_complete[:,np.newaxis,:],data2.shape[1],axis=1)\n",
    "    climatology_expanded = climatology_expanded.reshape(-1,data2.shape[1],data2.shape[2],data2.shape[3])\n",
    "        \n",
    "    #calculate anomalies\n",
    "    for y in np.unique(data2.time.dt.year):\n",
    "        year_sel = data2[data2.time.dt.year==y].values\n",
    "        anomalies2 = year_sel - climatology_expanded\n",
    "        data2[data2.time.dt.year==y] = anomalies2\n",
    "\n",
    "\n",
    "# ------------------ save data -----------------------\n",
    "    path = '/work/uo1075/u241308/data_python_PostDoc/MPI_GE_cmip6/t2max/'\n",
    "    \n",
    "    file = 'nGE_Tmax_'+n_run+'_dm_ens_0-30_land_europe_ens_mean_anomaly.nc'\n",
    "    data1.to_netcdf(path+file)\n",
    "    \n",
    "    file = 'nGE_Tmax_'+n_run+'_dm_ens_31-50_land_europe_ens_mean_anomaly.nc'\n",
    "    data2.to_netcdf(path+file)\n",
    "    \n",
    "    print(n_run + ' finished')"
   ]
  }
 ],
 "metadata": {
  "kernelspec": {
   "display_name": "1 Python 3 (based on the module python3/2023.01)",
   "language": "python",
   "name": "python3_2023_01"
  },
  "language_info": {
   "codemirror_mode": {
    "name": "ipython",
    "version": 3
   },
   "file_extension": ".py",
   "mimetype": "text/x-python",
   "name": "python",
   "nbconvert_exporter": "python",
   "pygments_lexer": "ipython3",
   "version": "3.10.10"
  }
 },
 "nbformat": 4,
 "nbformat_minor": 5
}
