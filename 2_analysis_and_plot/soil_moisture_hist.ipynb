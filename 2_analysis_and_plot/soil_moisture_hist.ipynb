{
 "cells": [
  {
   "cell_type": "code",
   "execution_count": 1,
   "id": "ee76623b-68ca-41c0-8a97-ec805dcab26a",
   "metadata": {
    "tags": []
   },
   "outputs": [],
   "source": [
    "import numpy as np\n",
    "import xarray as xr\n",
    "import copy \n",
    "import matplotlib.pyplot as plt\n",
    "import cartopy.crs as ccrs\n",
    "\n",
    "plot_path = '/home/u/u241308/figures/'"
   ]
  },
  {
   "cell_type": "code",
   "execution_count": 2,
   "id": "cbd6d188-efcf-4125-8396-1779b5207f2a",
   "metadata": {
    "tags": []
   },
   "outputs": [],
   "source": [
    "ref_hist_min = 1850\n",
    "ref_hist_max = 1879"
   ]
  },
  {
   "cell_type": "code",
   "execution_count": 20,
   "id": "1fef3e41-83c0-4dff-b45a-bf8fccec47e3",
   "metadata": {},
   "outputs": [],
   "source": [
    "lon_eu_max = 30\n",
    "lon_eu_min = -10\n",
    "lat_eu_max = 70\n",
    "lat_eu_min = 35"
   ]
  },
  {
   "cell_type": "code",
   "execution_count": 44,
   "id": "33341f2c-1b6e-4f5c-9bab-74afe0df66aa",
   "metadata": {
    "tags": []
   },
   "outputs": [],
   "source": [
    "model_list =  ['CanESM5','MIROC6','ACCESS-ESM1-5']\n",
    "ens_total_list = [50,50,40]\n",
    "n_run = 'historical'"
   ]
  },
  {
   "cell_type": "code",
   "execution_count": 60,
   "id": "29f4bf1a-7771-40ee-80f6-e38a138b62ae",
   "metadata": {
    "tags": []
   },
   "outputs": [],
   "source": [
    "for i,model in enumerate(model_list): \n",
    "    ens_total = ens_total_list[i]\n",
    "    \n",
    "    path = '/work/uo1075/u241308/SMILE/'+model+'/mrso/'\n",
    "    file = model+'_soil_moisture_'+n_run+'_mm_ens1-%i_GEgrid.nc'%ens_total\n",
    "    sm = xr.open_dataset(path+file)\n",
    "    sm = sm.mrso\n",
    "    sm = sm[(sm.time.dt.month >= 6) & (sm.time.dt.month <= 8)].resample(time='Y').mean()\n",
    "    \n",
    "    #select early historical data\n",
    "    sm = sm[(sm.time.dt.year>=ref_hist_min)&(sm.time.dt.year<=ref_hist_max)]\n",
    "    \n",
    "    #Define new longitudes: from 0,360 to -180,180, and select Europe\n",
    "    sm['lon'] = np.where(sm.lon >180, sm.lon-360,sm.lon)\n",
    "    ind = np.argsort(sm.lon)\n",
    "    ind.values\n",
    "    sm = sm[:,:,:,ind.values]\n",
    "    #sel lon/lat\n",
    "    sm = sm[:,:,(sm.lat >= lat_eu_min) & (sm.lat <= lat_eu_max),(sm.lon >= lon_eu_min) & (sm.lon <= lon_eu_max)]\n",
    "\n",
    "    sm_mean = sm.mean(dim='sfc').mean(dim='time')\n",
    "    sm_std = sm.std(dim='sfc').mean(dim='time')\n",
    "\n",
    "    path='/work/uo1075/u241308/data_python_PostDoc/HW_expansion/soil_moisture_smile/'\n",
    "    file='SM_JJA_Europe_%i-%i_ens_mean_'%(ref_hist_min,ref_hist_max) +model+'.nc'\n",
    "    sm_mean.to_netcdf(path+file)\n",
    "\n",
    "    file='SM_JJA_Europe_%i-%i_ens_std_'%(ref_hist_min,ref_hist_max) +model+'.nc'\n",
    "    sm_std.to_netcdf(path+file)"
   ]
  },
  {
   "cell_type": "code",
   "execution_count": 61,
   "id": "e656523e-d223-49eb-95aa-c59a6d04a516",
   "metadata": {},
   "outputs": [],
   "source": [
    "#for MPI\n",
    "#first set\n",
    "path = '/work/uo1075/u241308/grand_ensemble_cmip6/soil_moisture/ens1_30/'\n",
    "file = 'nGE_soil_moisture_'+n_run+'_mm_ens1-30.nc'\n",
    "sm1 = xr.open_dataset(path+file)\n",
    "sm1 = sm1.mrso\n",
    "\n",
    "sm1 = sm1[(sm1.time.dt.month >= 6) & (sm1.time.dt.month <= 8)].resample(time='Y').mean()\n",
    "\n",
    "#Define new longitudes: from 0,360 to -180,180, and select Europe\n",
    "sm1['lon'] = np.where(sm1.lon >180, sm1.lon-360,sm1.lon)\n",
    "ind = np.argsort(sm1.lon)\n",
    "ind.values\n",
    "sm1 = sm1[:,:,:,ind.values]\n",
    "#sel lon/lat\n",
    "sm1 = sm1[:,:,(sm1.lat >= lat_eu_min) & (sm1.lat <= lat_eu_max),(sm1.lon >= lon_eu_min) & (sm1.lon <= lon_eu_max)]\n",
    "\n",
    "#second set\n",
    "path = '/work/uo1075/u241308/grand_ensemble_cmip6/soil_moisture/ens31_50/'\n",
    "file = 'nGE_soil_moisture_'+n_run+'_mm_ens31-50.nc'\n",
    "sm2 = xr.open_dataset(path+file)\n",
    "sm2 = sm2.mrso\n",
    "\n",
    "sm2 = sm2[(sm2.time.dt.month >= 6) & (sm2.time.dt.month <= 8)].resample(time='Y').mean()\n",
    "\n",
    "#Define new longitudes: from 0,360 to -180,180\n",
    "sm2['lon'] = np.where(sm2.lon >180, sm2.lon-360,sm2.lon)\n",
    "ind = np.argsort(sm2.lon)\n",
    "ind.values\n",
    "sm2 = sm2[:,:,:,ind.values]\n",
    "#sel lon/lat\n",
    "sm2 = sm2[:,:,(sm2.lat >= lat_eu_min) & (sm2.lat <= lat_eu_max),(sm2.lon >= lon_eu_min) & (sm2.lon <= lon_eu_max)]\n",
    "\n",
    "#concatenate two sets\n",
    "sm = xr.concat((sm1,sm2),dim='sfc')\n",
    "\n",
    "#select early historical data\n",
    "sm = sm[(sm.time.dt.year>=ref_hist_min)&(sm.time.dt.year<=ref_hist_max)]\n",
    "\n",
    "sm_mean = sm.mean(dim='sfc').mean(dim='time')\n",
    "sm_std = sm.std(dim='sfc').mean(dim='time')\n",
    "\n",
    "path='/work/uo1075/u241308/data_python_PostDoc/HW_expansion/soil_moisture_smile/'\n",
    "model='MPI-GE'\n",
    "file='SM_JJA_Europe_%i-%i_ens_mean_'%(ref_hist_min,ref_hist_max) +model+'.nc'\n",
    "sm_mean.to_netcdf(path+file)\n",
    "file='SM_JJA_Europe_%i-%i_ens_std_'%(ref_hist_min,ref_hist_max) +model+'.nc'\n",
    "sm_std.to_netcdf(path+file)"
   ]
  }
 ],
 "metadata": {
  "kernelspec": {
   "display_name": "1 Python 3 (based on the module python3/2023.01)",
   "language": "python",
   "name": "python3_2023_01"
  },
  "language_info": {
   "codemirror_mode": {
    "name": "ipython",
    "version": 3
   },
   "file_extension": ".py",
   "mimetype": "text/x-python",
   "name": "python",
   "nbconvert_exporter": "python",
   "pygments_lexer": "ipython3",
   "version": "3.10.10"
  }
 },
 "nbformat": 4,
 "nbformat_minor": 5
}
